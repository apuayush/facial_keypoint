{
  "nbformat": 4,
  "nbformat_minor": 0,
  "metadata": {
    "colab": {
      "name": "Untitled.ipynb",
      "version": "0.3.2",
      "views": {},
      "default_view": {},
      "provenance": []
    },
    "kernelspec": {
      "name": "python3",
      "display_name": "Python 3"
    },
    "accelerator": "GPU"
  },
  "cells": [
    {
      "metadata": {
        "id": "wkrVW7mFdCb4",
        "colab_type": "text"
      },
      "cell_type": "markdown",
      "source": [
        "## Reading the data"
      ]
    },
    {
      "metadata": {
        "id": "TzA1n5czmtSa",
        "colab_type": "code",
        "colab": {
          "autoexec": {
            "startup": false,
            "wait_interval": 0
          },
          "base_uri": "https://localhost:8080/",
          "height": 107
        },
        "outputId": "bd6f12f6-0a0d-4128-dbbf-e25ef810523b",
        "executionInfo": {
          "status": "ok",
          "timestamp": 1532276742866,
          "user_tz": -330,
          "elapsed": 56274,
          "user": {
            "displayName": "Apurva Nitanjay",
            "photoUrl": "//lh3.googleusercontent.com/-KH_2QvdDNyA/AAAAAAAAAAI/AAAAAAAAAEM/1CxoQ-BUF-g/s50-c-k-no/photo.jpg",
            "userId": "108703841969919506045"
          }
        }
      },
      "cell_type": "code",
      "source": [
        "# for mounting drive with google colabs\n",
        "!apt-get install -y -qq software-properties-common python-software-properties module-init-tools\n",
        "!add-apt-repository -y ppa:alessandro-strada/ppa 2>&1 > /dev/null\n",
        "!apt-get update -qq 2>&1 > /dev/null\n",
        "!apt-get -y install -qq google-drive-ocamlfuse fuse\n",
        "from google.colab import auth\n",
        "auth.authenticate_user()\n",
        "from oauth2client.client import GoogleCredentials\n",
        "creds = GoogleCredentials.get_application_default()\n",
        "import getpass\n",
        "!google-drive-ocamlfuse -headless -id={creds.client_id} -secret={creds.client_secret} < /dev/null 2>&1 | grep URL\n",
        "vcode = getpass.getpass()\n",
        "!echo {vcode} | google-drive-ocamlfuse -headless -id={creds.client_id} -secret={creds.client_secret}"
      ],
      "execution_count": 1,
      "outputs": [
        {
          "output_type": "stream",
          "text": [
            "Please, open the following URL in a web browser: https://accounts.google.com/o/oauth2/auth?client_id=32555940559.apps.googleusercontent.com&redirect_uri=urn%3Aietf%3Awg%3Aoauth%3A2.0%3Aoob&scope=https%3A%2F%2Fwww.googleapis.com%2Fauth%2Fdrive&response_type=code&access_type=offline&approval_prompt=force\r\n",
            "··········\n",
            "Please, open the following URL in a web browser: https://accounts.google.com/o/oauth2/auth?client_id=32555940559.apps.googleusercontent.com&redirect_uri=urn%3Aietf%3Awg%3Aoauth%3A2.0%3Aoob&scope=https%3A%2F%2Fwww.googleapis.com%2Fauth%2Fdrive&response_type=code&access_type=offline&approval_prompt=force\n",
            "Please enter the verification code: Access token retrieved correctly.\n"
          ],
          "name": "stdout"
        }
      ]
    },
    {
      "metadata": {
        "id": "uZ53Fk3Gm5JE",
        "colab_type": "code",
        "colab": {
          "autoexec": {
            "startup": false,
            "wait_interval": 0
          }
        }
      },
      "cell_type": "code",
      "source": [
        "!mkdir -p  drive\n",
        "!google-drive-ocamlfuse drive"
      ],
      "execution_count": 0,
      "outputs": []
    },
    {
      "metadata": {
        "id": "-EHcNrpbnluf",
        "colab_type": "code",
        "colab": {
          "autoexec": {
            "startup": false,
            "wait_interval": 0
          },
          "base_uri": "https://localhost:8080/",
          "height": 35
        },
        "outputId": "c9124c2f-130a-442e-ebb6-b0c6edeac1b8",
        "executionInfo": {
          "status": "ok",
          "timestamp": 1532276753563,
          "user_tz": -330,
          "elapsed": 1945,
          "user": {
            "displayName": "Apurva Nitanjay",
            "photoUrl": "//lh3.googleusercontent.com/-KH_2QvdDNyA/AAAAAAAAAAI/AAAAAAAAAEM/1CxoQ-BUF-g/s50-c-k-no/photo.jpg",
            "userId": "108703841969919506045"
          }
        }
      },
      "cell_type": "code",
      "source": [
        "!ls"
      ],
      "execution_count": 3,
      "outputs": [
        {
          "output_type": "stream",
          "text": [
            "datalab  drive\r\n"
          ],
          "name": "stdout"
        }
      ]
    },
    {
      "metadata": {
        "id": "9nOWngk8dCb6",
        "colab_type": "code",
        "colab": {
          "autoexec": {
            "startup": false,
            "wait_interval": 0
          }
        }
      },
      "cell_type": "code",
      "source": [
        "import pandas as pd\n",
        "import numpy as np\n",
        "import matplotlib.pyplot as plt\n",
        "import cv2\n",
        "plt.style.use('ggplot')\n",
        "% matplotlib inline"
      ],
      "execution_count": 0,
      "outputs": []
    },
    {
      "metadata": {
        "id": "4IdHPLGwdCcL",
        "colab_type": "code",
        "colab": {
          "autoexec": {
            "startup": false,
            "wait_interval": 0
          }
        }
      },
      "cell_type": "code",
      "source": [
        "data_train = pd.read_csv('drive/data/training.csv')"
      ],
      "execution_count": 0,
      "outputs": []
    },
    {
      "metadata": {
        "id": "LiuGwQrUdCcS",
        "colab_type": "code",
        "colab": {
          "autoexec": {
            "startup": false,
            "wait_interval": 0
          }
        }
      },
      "cell_type": "code",
      "source": [
        "data_test = pd.read_csv('drive/data/test.csv')"
      ],
      "execution_count": 0,
      "outputs": []
    },
    {
      "metadata": {
        "id": "-RFVTgp5dCcW",
        "colab_type": "code",
        "colab": {
          "autoexec": {
            "startup": false,
            "wait_interval": 0
          },
          "base_uri": "https://localhost:8080/",
          "height": 35
        },
        "outputId": "e1491747-9143-4c09-e445-75c8143158e1",
        "executionInfo": {
          "status": "ok",
          "timestamp": 1532276864131,
          "user_tz": -330,
          "elapsed": 1003,
          "user": {
            "displayName": "Apurva Nitanjay",
            "photoUrl": "//lh3.googleusercontent.com/-KH_2QvdDNyA/AAAAAAAAAAI/AAAAAAAAAEM/1CxoQ-BUF-g/s50-c-k-no/photo.jpg",
            "userId": "108703841969919506045"
          }
        }
      },
      "cell_type": "code",
      "source": [
        "print(data_train.shape, data_test.shape)"
      ],
      "execution_count": 7,
      "outputs": [
        {
          "output_type": "stream",
          "text": [
            "(7049, 31) (1783, 2)\n"
          ],
          "name": "stdout"
        }
      ]
    },
    {
      "metadata": {
        "id": "JCyAXCr_dCcd",
        "colab_type": "code",
        "colab": {
          "autoexec": {
            "startup": false,
            "wait_interval": 0
          },
          "base_uri": "https://localhost:8080/",
          "height": 572
        },
        "outputId": "2dbdc42f-6f98-4275-feeb-6a1d1ccb4f0d",
        "executionInfo": {
          "status": "ok",
          "timestamp": 1532276865107,
          "user_tz": -330,
          "elapsed": 887,
          "user": {
            "displayName": "Apurva Nitanjay",
            "photoUrl": "//lh3.googleusercontent.com/-KH_2QvdDNyA/AAAAAAAAAAI/AAAAAAAAAEM/1CxoQ-BUF-g/s50-c-k-no/photo.jpg",
            "userId": "108703841969919506045"
          }
        }
      },
      "cell_type": "code",
      "source": [
        "print(data_train.count())"
      ],
      "execution_count": 8,
      "outputs": [
        {
          "output_type": "stream",
          "text": [
            "left_eye_center_x            7039\n",
            "left_eye_center_y            7039\n",
            "right_eye_center_x           7036\n",
            "right_eye_center_y           7036\n",
            "left_eye_inner_corner_x      2271\n",
            "left_eye_inner_corner_y      2271\n",
            "left_eye_outer_corner_x      2267\n",
            "left_eye_outer_corner_y      2267\n",
            "right_eye_inner_corner_x     2268\n",
            "right_eye_inner_corner_y     2268\n",
            "right_eye_outer_corner_x     2268\n",
            "right_eye_outer_corner_y     2268\n",
            "left_eyebrow_inner_end_x     2270\n",
            "left_eyebrow_inner_end_y     2270\n",
            "left_eyebrow_outer_end_x     2225\n",
            "left_eyebrow_outer_end_y     2225\n",
            "right_eyebrow_inner_end_x    2270\n",
            "right_eyebrow_inner_end_y    2270\n",
            "right_eyebrow_outer_end_x    2236\n",
            "right_eyebrow_outer_end_y    2236\n",
            "nose_tip_x                   7049\n",
            "nose_tip_y                   7049\n",
            "mouth_left_corner_x          2269\n",
            "mouth_left_corner_y          2269\n",
            "mouth_right_corner_x         2270\n",
            "mouth_right_corner_y         2270\n",
            "mouth_center_top_lip_x       2275\n",
            "mouth_center_top_lip_y       2275\n",
            "mouth_center_bottom_lip_x    7016\n",
            "mouth_center_bottom_lip_y    7016\n",
            "Image                        7049\n",
            "dtype: int64\n"
          ],
          "name": "stdout"
        }
      ]
    },
    {
      "metadata": {
        "id": "cH0t7ORBdCcq",
        "colab_type": "code",
        "colab": {
          "autoexec": {
            "startup": false,
            "wait_interval": 0
          },
          "base_uri": "https://localhost:8080/",
          "height": 319
        },
        "outputId": "dcad5aee-700c-42e2-8769-8af3ef4a4a64",
        "executionInfo": {
          "status": "ok",
          "timestamp": 1532276866216,
          "user_tz": -330,
          "elapsed": 1041,
          "user": {
            "displayName": "Apurva Nitanjay",
            "photoUrl": "//lh3.googleusercontent.com/-KH_2QvdDNyA/AAAAAAAAAAI/AAAAAAAAAEM/1CxoQ-BUF-g/s50-c-k-no/photo.jpg",
            "userId": "108703841969919506045"
          }
        }
      },
      "cell_type": "code",
      "source": [
        "data_train.head(1)"
      ],
      "execution_count": 9,
      "outputs": [
        {
          "output_type": "execute_result",
          "data": {
            "text/html": [
              "<div>\n",
              "<style scoped>\n",
              "    .dataframe tbody tr th:only-of-type {\n",
              "        vertical-align: middle;\n",
              "    }\n",
              "\n",
              "    .dataframe tbody tr th {\n",
              "        vertical-align: top;\n",
              "    }\n",
              "\n",
              "    .dataframe thead th {\n",
              "        text-align: right;\n",
              "    }\n",
              "</style>\n",
              "<table border=\"1\" class=\"dataframe\">\n",
              "  <thead>\n",
              "    <tr style=\"text-align: right;\">\n",
              "      <th></th>\n",
              "      <th>left_eye_center_x</th>\n",
              "      <th>left_eye_center_y</th>\n",
              "      <th>right_eye_center_x</th>\n",
              "      <th>right_eye_center_y</th>\n",
              "      <th>left_eye_inner_corner_x</th>\n",
              "      <th>left_eye_inner_corner_y</th>\n",
              "      <th>left_eye_outer_corner_x</th>\n",
              "      <th>left_eye_outer_corner_y</th>\n",
              "      <th>right_eye_inner_corner_x</th>\n",
              "      <th>right_eye_inner_corner_y</th>\n",
              "      <th>...</th>\n",
              "      <th>nose_tip_y</th>\n",
              "      <th>mouth_left_corner_x</th>\n",
              "      <th>mouth_left_corner_y</th>\n",
              "      <th>mouth_right_corner_x</th>\n",
              "      <th>mouth_right_corner_y</th>\n",
              "      <th>mouth_center_top_lip_x</th>\n",
              "      <th>mouth_center_top_lip_y</th>\n",
              "      <th>mouth_center_bottom_lip_x</th>\n",
              "      <th>mouth_center_bottom_lip_y</th>\n",
              "      <th>Image</th>\n",
              "    </tr>\n",
              "  </thead>\n",
              "  <tbody>\n",
              "    <tr>\n",
              "      <th>0</th>\n",
              "      <td>66.033564</td>\n",
              "      <td>39.002274</td>\n",
              "      <td>30.227008</td>\n",
              "      <td>36.421678</td>\n",
              "      <td>59.582075</td>\n",
              "      <td>39.647423</td>\n",
              "      <td>73.130346</td>\n",
              "      <td>39.969997</td>\n",
              "      <td>36.356571</td>\n",
              "      <td>37.389402</td>\n",
              "      <td>...</td>\n",
              "      <td>57.066803</td>\n",
              "      <td>61.195308</td>\n",
              "      <td>79.970165</td>\n",
              "      <td>28.614496</td>\n",
              "      <td>77.388992</td>\n",
              "      <td>43.312602</td>\n",
              "      <td>72.935459</td>\n",
              "      <td>43.130707</td>\n",
              "      <td>84.485774</td>\n",
              "      <td>238 236 237 238 240 240 239 241 241 243 240 23...</td>\n",
              "    </tr>\n",
              "  </tbody>\n",
              "</table>\n",
              "<p>1 rows × 31 columns</p>\n",
              "</div>"
            ],
            "text/plain": [
              "   left_eye_center_x  left_eye_center_y  right_eye_center_x  \\\n",
              "0          66.033564          39.002274           30.227008   \n",
              "\n",
              "   right_eye_center_y  left_eye_inner_corner_x  left_eye_inner_corner_y  \\\n",
              "0           36.421678                59.582075                39.647423   \n",
              "\n",
              "   left_eye_outer_corner_x  left_eye_outer_corner_y  right_eye_inner_corner_x  \\\n",
              "0                73.130346                39.969997                 36.356571   \n",
              "\n",
              "   right_eye_inner_corner_y  \\\n",
              "0                 37.389402   \n",
              "\n",
              "                         ...                          nose_tip_y  \\\n",
              "0                        ...                           57.066803   \n",
              "\n",
              "   mouth_left_corner_x  mouth_left_corner_y  mouth_right_corner_x  \\\n",
              "0            61.195308            79.970165             28.614496   \n",
              "\n",
              "   mouth_right_corner_y  mouth_center_top_lip_x  mouth_center_top_lip_y  \\\n",
              "0             77.388992               43.312602               72.935459   \n",
              "\n",
              "   mouth_center_bottom_lip_x  mouth_center_bottom_lip_y  \\\n",
              "0                  43.130707                  84.485774   \n",
              "\n",
              "                                               Image  \n",
              "0  238 236 237 238 240 240 239 241 241 243 240 23...  \n",
              "\n",
              "[1 rows x 31 columns]"
            ]
          },
          "metadata": {
            "tags": []
          },
          "execution_count": 9
        }
      ]
    },
    {
      "metadata": {
        "id": "KecjKDFsdCc4",
        "colab_type": "code",
        "colab": {
          "autoexec": {
            "startup": false,
            "wait_interval": 0
          },
          "base_uri": "https://localhost:8080/",
          "height": 277
        },
        "outputId": "99acad23-e880-43cb-f8d5-8bdd963d0801",
        "executionInfo": {
          "status": "ok",
          "timestamp": 1532276867448,
          "user_tz": -330,
          "elapsed": 1142,
          "user": {
            "displayName": "Apurva Nitanjay",
            "photoUrl": "//lh3.googleusercontent.com/-KH_2QvdDNyA/AAAAAAAAAAI/AAAAAAAAAEM/1CxoQ-BUF-g/s50-c-k-no/photo.jpg",
            "userId": "108703841969919506045"
          }
        }
      },
      "cell_type": "code",
      "source": [
        "data_train.keys()"
      ],
      "execution_count": 10,
      "outputs": [
        {
          "output_type": "execute_result",
          "data": {
            "text/plain": [
              "Index(['left_eye_center_x', 'left_eye_center_y', 'right_eye_center_x',\n",
              "       'right_eye_center_y', 'left_eye_inner_corner_x',\n",
              "       'left_eye_inner_corner_y', 'left_eye_outer_corner_x',\n",
              "       'left_eye_outer_corner_y', 'right_eye_inner_corner_x',\n",
              "       'right_eye_inner_corner_y', 'right_eye_outer_corner_x',\n",
              "       'right_eye_outer_corner_y', 'left_eyebrow_inner_end_x',\n",
              "       'left_eyebrow_inner_end_y', 'left_eyebrow_outer_end_x',\n",
              "       'left_eyebrow_outer_end_y', 'right_eyebrow_inner_end_x',\n",
              "       'right_eyebrow_inner_end_y', 'right_eyebrow_outer_end_x',\n",
              "       'right_eyebrow_outer_end_y', 'nose_tip_x', 'nose_tip_y',\n",
              "       'mouth_left_corner_x', 'mouth_left_corner_y', 'mouth_right_corner_x',\n",
              "       'mouth_right_corner_y', 'mouth_center_top_lip_x',\n",
              "       'mouth_center_top_lip_y', 'mouth_center_bottom_lip_x',\n",
              "       'mouth_center_bottom_lip_y', 'Image'],\n",
              "      dtype='object')"
            ]
          },
          "metadata": {
            "tags": []
          },
          "execution_count": 10
        }
      ]
    },
    {
      "metadata": {
        "id": "UruP0DzndCc-",
        "colab_type": "code",
        "colab": {
          "autoexec": {
            "startup": false,
            "wait_interval": 0
          },
          "base_uri": "https://localhost:8080/",
          "height": 397
        },
        "outputId": "ec60ac68-9b8a-495e-a3ac-779378afc742",
        "executionInfo": {
          "status": "ok",
          "timestamp": 1532276868943,
          "user_tz": -330,
          "elapsed": 1399,
          "user": {
            "displayName": "Apurva Nitanjay",
            "photoUrl": "//lh3.googleusercontent.com/-KH_2QvdDNyA/AAAAAAAAAAI/AAAAAAAAAEM/1CxoQ-BUF-g/s50-c-k-no/photo.jpg",
            "userId": "108703841969919506045"
          }
        }
      },
      "cell_type": "code",
      "source": [
        "data_train.describe().loc['count'].plot.bar()"
      ],
      "execution_count": 11,
      "outputs": [
        {
          "output_type": "execute_result",
          "data": {
            "text/plain": [
              "<matplotlib.axes._subplots.AxesSubplot at 0x7f69254e50f0>"
            ]
          },
          "metadata": {
            "tags": []
          },
          "execution_count": 11
        },
        {
          "output_type": "display_data",
          "data": {
            "image/png": "[encoded data removed]",
            "text/plain": [
              "<matplotlib.figure.Figure at 0x7f692546fa20>"
            ]
          },
          "metadata": {
            "tags": []
          }
        }
      ]
    },
    {
      "metadata": {
        "id": "89b9mOwrdCdN",
        "colab_type": "code",
        "colab": {
          "autoexec": {
            "startup": false,
            "wait_interval": 0
          },
          "base_uri": "https://localhost:8080/",
          "height": 35
        },
        "outputId": "12e57378-8c61-4c15-ecae-ef70b4dd662d",
        "executionInfo": {
          "status": "ok",
          "timestamp": 1532276870054,
          "user_tz": -330,
          "elapsed": 1017,
          "user": {
            "displayName": "Apurva Nitanjay",
            "photoUrl": "//lh3.googleusercontent.com/-KH_2QvdDNyA/AAAAAAAAAAI/AAAAAAAAAEM/1CxoQ-BUF-g/s50-c-k-no/photo.jpg",
            "userId": "108703841969919506045"
          }
        }
      },
      "cell_type": "code",
      "source": [
        "data_train = data_train.dropna()\n",
        "data_train.shape"
      ],
      "execution_count": 12,
      "outputs": [
        {
          "output_type": "execute_result",
          "data": {
            "text/plain": [
              "(2140, 31)"
            ]
          },
          "metadata": {
            "tags": []
          },
          "execution_count": 12
        }
      ]
    },
    {
      "metadata": {
        "id": "aJJd8IMtdCdj",
        "colab_type": "code",
        "colab": {
          "autoexec": {
            "startup": false,
            "wait_interval": 0
          }
        }
      },
      "cell_type": "code",
      "source": [
        "train_key_points_y = np.array(data_train.iloc[:,0:-1]).astype(np.float32)\n",
        "train_images = data_train.iloc[:,-1]\n",
        "\n",
        "test_key_points = np.array(data_test.iloc[:,0:-1]).astype(np.float32)\n",
        "test_images = np.array(data_test.iloc[:,-1])\n"
      ],
      "execution_count": 0,
      "outputs": []
    },
    {
      "metadata": {
        "id": "q-MkAPa97p4G",
        "colab_type": "code",
        "colab": {
          "autoexec": {
            "startup": false,
            "wait_interval": 0
          }
        }
      },
      "cell_type": "code",
      "source": [
        "from sklearn.pipeline import make_pipeline\n",
        "from sklearn.preprocessing import MinMaxScaler\n",
        "\n",
        "output_pipe = make_pipeline(\n",
        "    MinMaxScaler(feature_range=(-1, 1))\n",
        ")\n",
        "\n",
        "train_key_points = output_pipe.fit_transform(train_key_points_y)"
      ],
      "execution_count": 0,
      "outputs": []
    },
    {
      "metadata": {
        "id": "OtbCtqjkdCdo",
        "colab_type": "code",
        "colab": {
          "autoexec": {
            "startup": false,
            "wait_interval": 0
          },
          "base_uri": "https://localhost:8080/",
          "height": 72
        },
        "outputId": "706ceb56-a9b5-45d0-b6e9-03a49d758413",
        "executionInfo": {
          "status": "ok",
          "timestamp": 1532276879802,
          "user_tz": -330,
          "elapsed": 595,
          "user": {
            "displayName": "Apurva Nitanjay",
            "photoUrl": "//lh3.googleusercontent.com/-KH_2QvdDNyA/AAAAAAAAAAI/AAAAAAAAAEM/1CxoQ-BUF-g/s50-c-k-no/photo.jpg",
            "userId": "108703841969919506045"
          }
        }
      },
      "cell_type": "code",
      "source": [
        "train_images = train_images.reshape(-1,1)\n",
        "test_images = test_images.reshape(-1,1)"
      ],
      "execution_count": 15,
      "outputs": [
        {
          "output_type": "stream",
          "text": [
            "/usr/local/lib/python3.6/dist-packages/ipykernel_launcher.py:1: FutureWarning: reshape is deprecated and will raise in a subsequent release. Please use .values.reshape(...) instead\n",
            "  \"\"\"Entry point for launching an IPython kernel.\n"
          ],
          "name": "stderr"
        }
      ]
    },
    {
      "metadata": {
        "id": "OroyRuTrdCdw",
        "colab_type": "code",
        "colab": {
          "autoexec": {
            "startup": false,
            "wait_interval": 0
          },
          "base_uri": "https://localhost:8080/",
          "height": 35
        },
        "outputId": "cbc1db94-1837-41b5-ad6b-874a73ac106a",
        "executionInfo": {
          "status": "ok",
          "timestamp": 1532276885474,
          "user_tz": -330,
          "elapsed": 968,
          "user": {
            "displayName": "Apurva Nitanjay",
            "photoUrl": "//lh3.googleusercontent.com/-KH_2QvdDNyA/AAAAAAAAAAI/AAAAAAAAAEM/1CxoQ-BUF-g/s50-c-k-no/photo.jpg",
            "userId": "108703841969919506045"
          }
        }
      },
      "cell_type": "code",
      "source": [
        "print(train_images.shape, test_images.shape, train_key_points.shape)"
      ],
      "execution_count": 16,
      "outputs": [
        {
          "output_type": "stream",
          "text": [
            "(2140, 1) (1783, 1) (2140, 30)\n"
          ],
          "name": "stdout"
        }
      ]
    },
    {
      "metadata": {
        "id": "dwZU9a2TdCd1",
        "colab_type": "code",
        "colab": {
          "autoexec": {
            "startup": false,
            "wait_interval": 0
          }
        }
      },
      "cell_type": "code",
      "source": [
        "def reform_data(img_str):\n",
        "    t1 = img_str[0].split()\n",
        "    t2 = np.array(t1).astype(np.float32)\n",
        "    t3 = t2.reshape(96,96,1)\n",
        "    return t3/255\n",
        "train_images = np.apply_along_axis(reform_data,1, train_images)\n",
        "test_images = np.apply_along_axis(reform_data,1, test_images)"
      ],
      "execution_count": 0,
      "outputs": []
    },
    {
      "metadata": {
        "id": "ACn5pA59dCd4",
        "colab_type": "code",
        "colab": {
          "autoexec": {
            "startup": false,
            "wait_interval": 0
          },
          "base_uri": "https://localhost:8080/",
          "height": 35
        },
        "outputId": "90900492-6072-441f-f1de-6d6dbaa6671e",
        "executionInfo": {
          "status": "ok",
          "timestamp": 1532276915600,
          "user_tz": -330,
          "elapsed": 998,
          "user": {
            "displayName": "Apurva Nitanjay",
            "photoUrl": "//lh3.googleusercontent.com/-KH_2QvdDNyA/AAAAAAAAAAI/AAAAAAAAAEM/1CxoQ-BUF-g/s50-c-k-no/photo.jpg",
            "userId": "108703841969919506045"
          }
        }
      },
      "cell_type": "code",
      "source": [
        "print(train_images.shape, test_images.shape, train_key_points.shape)"
      ],
      "execution_count": 18,
      "outputs": [
        {
          "output_type": "stream",
          "text": [
            "(2140, 96, 96, 1) (1783, 96, 96, 1) (2140, 30)\n"
          ],
          "name": "stdout"
        }
      ]
    },
    {
      "metadata": {
        "id": "PhMHat7ddCd7",
        "colab_type": "text"
      },
      "cell_type": "markdown",
      "source": [
        "### The images are stored in test_image, train_image which is a 96x96 dimensional vector converted image and all the X and Y coordinates of key point features is mentioned in train_key_points, test_key_points\n",
        "### The key features are \n",
        "'left_eye_center_x', 'left_eye_center_y', 'right_eye_center_x',\n",
        "       'right_eye_center_y', 'left_eye_inner_corner_x',\n",
        "       'left_eye_inner_corner_y', 'left_eye_outer_corner_x',\n",
        "       'left_eye_outer_corner_y', 'right_eye_inner_corner_x',\n",
        "       'right_eye_inner_corner_y', 'right_eye_outer_corner_x',\n",
        "       'right_eye_outer_corner_y', 'left_eyebrow_inner_end_x',\n",
        "       'left_eyebrow_inner_end_y', 'left_eyebrow_outer_end_x',\n",
        "       'left_eyebrow_outer_end_y', 'right_eyebrow_inner_end_x',\n",
        "       'right_eyebrow_inner_end_y', 'right_eyebrow_outer_end_x',\n",
        "       'right_eyebrow_outer_end_y', 'nose_tip_x', 'nose_tip_y',\n",
        "       'mouth_left_corner_x', 'mouth_left_corner_y', 'mouth_right_corner_x',\n",
        "       'mouth_right_corner_y', 'mouth_center_top_lip_x',\n",
        "       'mouth_center_top_lip_y', 'mouth_center_bottom_lip_x',\n",
        "       'mouth_center_bottom_lip_y'"
      ]
    },
    {
      "metadata": {
        "id": "8XOG95EFdCeA",
        "colab_type": "code",
        "colab": {
          "autoexec": {
            "startup": false,
            "wait_interval": 0
          }
        }
      },
      "cell_type": "code",
      "source": [
        "# Free the memory\n",
        "del data_test\n",
        "del data_train"
      ],
      "execution_count": 0,
      "outputs": []
    },
    {
      "metadata": {
        "id": "h4HVTiH3dCeN",
        "colab_type": "code",
        "colab": {
          "autoexec": {
            "startup": false,
            "wait_interval": 0
          },
          "base_uri": "https://localhost:8080/",
          "height": 323
        },
        "outputId": "ffa0275c-553e-4f49-af85-6950c9696996",
        "executionInfo": {
          "status": "ok",
          "timestamp": 1532277024314,
          "user_tz": -330,
          "elapsed": 1810,
          "user": {
            "displayName": "Apurva Nitanjay",
            "photoUrl": "//lh3.googleusercontent.com/-KH_2QvdDNyA/AAAAAAAAAAI/AAAAAAAAAEM/1CxoQ-BUF-g/s50-c-k-no/photo.jpg",
            "userId": "108703841969919506045"
          }
        }
      },
      "cell_type": "code",
      "source": [
        "# Sample images\n",
        "import random\n",
        "k = random.randint(0, train_images.shape[0])\n",
        "img = train_images[k].reshape(96,96)\n",
        "x = []\n",
        "y = []\n",
        "for i in range(0,30,2):\n",
        "    x.append(train_key_points_y[k][i])\n",
        "    y.append(train_key_points_y[k][i+1])\n",
        "\n",
        "print(x,y)\n",
        "plt.figure()\n",
        "plt.plot(x,y, marker='o',linestyle='', color='r', label = \"keypoints\",)\n",
        "plt.imshow(img)"
      ],
      "execution_count": 23,
      "outputs": [
        {
          "output_type": "stream",
          "text": [
            "[68.14368, 29.42944, 60.99648, 76.0352, 37.61888, 21.5376, 56.52928, 81.84256, 42.9792, 12.90144, 50.87104, 63.8256, 33.152, 49.72512, 49.53088] [40.38528, 38.74752, 40.832, 42.47008, 39.49184, 39.78976, 33.08928, 32.79136, 31.3024, 33.98272, 57.50912, 79.24864, 78.3552, 73.58048, 83.2688]\n"
          ],
          "name": "stdout"
        },
        {
          "output_type": "execute_result",
          "data": {
            "text/plain": [
              "<matplotlib.image.AxesImage at 0x7f692288ee10>"
            ]
          },
          "metadata": {
            "tags": []
          },
          "execution_count": 23
        },
        {
          "output_type": "display_data",
          "data": {
            "image/png": "[encoded data removed]",
            "text/plain": [
              "<matplotlib.figure.Figure at 0x7f69228f4128>"
            ]
          },
          "metadata": {
            "tags": []
          }
        }
      ]
    },
    {
      "metadata": {
        "id": "7_DhAIMcdCeU",
        "colab_type": "code",
        "colab": {
          "autoexec": {
            "startup": false,
            "wait_interval": 0
          },
          "base_uri": "https://localhost:8080/",
          "height": 35
        },
        "outputId": "2c174564-0b65-47a2-e876-948f544a7112",
        "executionInfo": {
          "status": "ok",
          "timestamp": 1532277056669,
          "user_tz": -330,
          "elapsed": 8093,
          "user": {
            "displayName": "Apurva Nitanjay",
            "photoUrl": "//lh3.googleusercontent.com/-KH_2QvdDNyA/AAAAAAAAAAI/AAAAAAAAAEM/1CxoQ-BUF-g/s50-c-k-no/photo.jpg",
            "userId": "108703841969919506045"
          }
        }
      },
      "cell_type": "code",
      "source": [
        "from keras.models import Sequential\n",
        "from keras.layers import BatchNormalization, Conv2D, Activation, MaxPooling2D, Dense, GlobalAveragePooling2D, Dropout, Flatten"
      ],
      "execution_count": 24,
      "outputs": [
        {
          "output_type": "stream",
          "text": [
            "Using TensorFlow backend.\n"
          ],
          "name": "stderr"
        }
      ]
    },
    {
      "metadata": {
        "id": "bwpmbTTUdCeY",
        "colab_type": "code",
        "colab": {
          "autoexec": {
            "startup": false,
            "wait_interval": 0
          }
        }
      },
      "cell_type": "code",
      "source": [
        "model = Sequential()\n",
        "# input layer\n",
        "model.add(BatchNormalization(input_shape=(96, 96, 1)))\n",
        "model.add(Conv2D(24, (5, 5), kernel_initializer='he_normal'))\n",
        "model.add(Activation('relu'))\n",
        "model.add(MaxPooling2D(pool_size=(2, 2), strides=(2, 2)))\n",
        "model.add(Dropout(0.2))\n",
        "# layer 2\n",
        "model.add(Conv2D(36, (5, 5)))\n",
        "model.add(Activation('relu'))\n",
        "model.add(MaxPooling2D(pool_size=(2, 2), strides=(2, 2)))\n",
        "model.add(Dropout(0.2))\n",
        "# layer 3\n",
        "model.add(Conv2D(48, (5, 5)))\n",
        "model.add(Activation('relu'))\n",
        "model.add(MaxPooling2D(pool_size=(2, 2), strides=(2, 2)))\n",
        "model.add(Dropout(0.2))\n",
        "# layer 4\n",
        "model.add(Conv2D(64, (3, 3)))\n",
        "model.add(Activation('relu'))\n",
        "model.add(MaxPooling2D(pool_size=(2, 2), strides=(2, 2)))\n",
        "model.add(Dropout(0.2))\n",
        "# layer 5\n",
        "model.add(Conv2D(64, (3, 3)))\n",
        "model.add(Activation('relu'))\n",
        "model.add(Flatten())\n",
        "# layer 6\n",
        "model.add(Dense(500, activation=\"relu\"))\n",
        "# layer 7\n",
        "model.add(Dense(90, activation=\"relu\"))\n",
        "# layer 8\n",
        "model.add(Dense(30))"
      ],
      "execution_count": 0,
      "outputs": []
    },
    {
      "metadata": {
        "id": "aj-NFi4S5nhl",
        "colab_type": "code",
        "colab": {
          "autoexec": {
            "startup": false,
            "wait_interval": 0
          },
          "base_uri": "https://localhost:8080/",
          "height": 936
        },
        "outputId": "6b5ff69c-c5be-48af-e58b-0a6eab947364",
        "executionInfo": {
          "status": "ok",
          "timestamp": 1532277067887,
          "user_tz": -330,
          "elapsed": 1116,
          "user": {
            "displayName": "Apurva Nitanjay",
            "photoUrl": "//lh3.googleusercontent.com/-KH_2QvdDNyA/AAAAAAAAAAI/AAAAAAAAAEM/1CxoQ-BUF-g/s50-c-k-no/photo.jpg",
            "userId": "108703841969919506045"
          }
        }
      },
      "cell_type": "code",
      "source": [
        "model.summary()"
      ],
      "execution_count": 26,
      "outputs": [
        {
          "output_type": "stream",
          "text": [
            "_________________________________________________________________\n",
            "Layer (type)                 Output Shape              Param #   \n",
            "=================================================================\n",
            "batch_normalization_1 (Batch (None, 96, 96, 1)         4         \n",
            "_________________________________________________________________\n",
            "conv2d_1 (Conv2D)            (None, 92, 92, 24)        624       \n",
            "_________________________________________________________________\n",
            "activation_1 (Activation)    (None, 92, 92, 24)        0         \n",
            "_________________________________________________________________\n",
            "max_pooling2d_1 (MaxPooling2 (None, 46, 46, 24)        0         \n",
            "_________________________________________________________________\n",
            "dropout_1 (Dropout)          (None, 46, 46, 24)        0         \n",
            "_________________________________________________________________\n",
            "conv2d_2 (Conv2D)            (None, 42, 42, 36)        21636     \n",
            "_________________________________________________________________\n",
            "activation_2 (Activation)    (None, 42, 42, 36)        0         \n",
            "_________________________________________________________________\n",
            "max_pooling2d_2 (MaxPooling2 (None, 21, 21, 36)        0         \n",
            "_________________________________________________________________\n",
            "dropout_2 (Dropout)          (None, 21, 21, 36)        0         \n",
            "_________________________________________________________________\n",
            "conv2d_3 (Conv2D)            (None, 17, 17, 48)        43248     \n",
            "_________________________________________________________________\n",
            "activation_3 (Activation)    (None, 17, 17, 48)        0         \n",
            "_________________________________________________________________\n",
            "max_pooling2d_3 (MaxPooling2 (None, 8, 8, 48)          0         \n",
            "_________________________________________________________________\n",
            "dropout_3 (Dropout)          (None, 8, 8, 48)          0         \n",
            "_________________________________________________________________\n",
            "conv2d_4 (Conv2D)            (None, 6, 6, 64)          27712     \n",
            "_________________________________________________________________\n",
            "activation_4 (Activation)    (None, 6, 6, 64)          0         \n",
            "_________________________________________________________________\n",
            "max_pooling2d_4 (MaxPooling2 (None, 3, 3, 64)          0         \n",
            "_________________________________________________________________\n",
            "dropout_4 (Dropout)          (None, 3, 3, 64)          0         \n",
            "_________________________________________________________________\n",
            "conv2d_5 (Conv2D)            (None, 1, 1, 64)          36928     \n",
            "_________________________________________________________________\n",
            "activation_5 (Activation)    (None, 1, 1, 64)          0         \n",
            "_________________________________________________________________\n",
            "flatten_1 (Flatten)          (None, 64)                0         \n",
            "_________________________________________________________________\n",
            "dense_1 (Dense)              (None, 500)               32500     \n",
            "_________________________________________________________________\n",
            "dense_2 (Dense)              (None, 90)                45090     \n",
            "_________________________________________________________________\n",
            "dense_3 (Dense)              (None, 30)                2730      \n",
            "=================================================================\n",
            "Total params: 210,472\n",
            "Trainable params: 210,470\n",
            "Non-trainable params: 2\n",
            "_________________________________________________________________\n"
          ],
          "name": "stdout"
        }
      ]
    },
    {
      "metadata": {
        "id": "2aRBrdM71N0R",
        "colab_type": "code",
        "colab": {
          "autoexec": {
            "startup": false,
            "wait_interval": 0
          }
        }
      },
      "cell_type": "code",
      "source": [
        "model.load_weights('drive/data/facial_keypoint_weights.h5')"
      ],
      "execution_count": 0,
      "outputs": []
    },
    {
      "metadata": {
        "id": "nNIydXm7dCeb",
        "colab_type": "code",
        "colab": {
          "autoexec": {
            "startup": false,
            "wait_interval": 0
          }
        }
      },
      "cell_type": "code",
      "source": [
        "from keras import optimizers\n",
        "sgd = optimizers.SGD(lr=0.1, decay=1e-6, momentum=0.95, nesterov=True)\n",
        "model.compile(optimizer=sgd, loss='mse', metrics=['accuracy'])\n",
        "json_model = model.to_json()\n",
        "\n",
        "# with open(\"model.json\", \"w\") as json_file:\n",
        "#     json_file.write(json_model)\n",
        "    \n"
      ],
      "execution_count": 0,
      "outputs": []
    },
    {
      "metadata": {
        "id": "TKUUlN6jdCef",
        "colab_type": "code",
        "colab": {
          "autoexec": {
            "startup": false,
            "wait_interval": 0
          },
          "base_uri": "https://localhost:8080/",
          "height": 7005
        },
        "outputId": "033ac1ee-f552-4c88-b85d-692f82018963",
        "executionInfo": {
          "status": "ok",
          "timestamp": 1532277527603,
          "user_tz": -330,
          "elapsed": 376653,
          "user": {
            "displayName": "Apurva Nitanjay",
            "photoUrl": "//lh3.googleusercontent.com/-KH_2QvdDNyA/AAAAAAAAAAI/AAAAAAAAAEM/1CxoQ-BUF-g/s50-c-k-no/photo.jpg",
            "userId": "108703841969919506045"
          }
        }
      },
      "cell_type": "code",
      "source": [
        "epochs = 200\n",
        "history = model.fit(train_images, train_key_points, \n",
        "                 validation_split=0.2, shuffle=True, \n",
        "                 epochs=epochs, batch_size=20)"
      ],
      "execution_count": 29,
      "outputs": [
        {
          "output_type": "stream",
          "text": [
            "WARNING:tensorflow:Variable *= will be deprecated. Use variable.assign_mul if you want assignment to the variable value or 'x = x * y' if you want a new python Tensor object.\n",
            "Train on 1712 samples, validate on 428 samples\n",
            "Epoch 1/200\n",
            "1712/1712 [==============================] - 3s 2ms/step - loss: 0.0020 - acc: 0.7815 - val_loss: 0.0211 - val_acc: 0.3738\n",
            "Epoch 2/200\n",
            "1712/1712 [==============================] - 2s 1ms/step - loss: 0.0020 - acc: 0.7769 - val_loss: 0.0210 - val_acc: 0.3481\n",
            "Epoch 3/200\n",
            "1712/1712 [==============================] - 2s 1ms/step - loss: 0.0020 - acc: 0.7722 - val_loss: 0.0209 - val_acc: 0.3481\n",
            "Epoch 4/200\n",
            "1712/1712 [==============================] - 2s 1ms/step - loss: 0.0020 - acc: 0.7880 - val_loss: 0.0212 - val_acc: 0.3318\n",
            "Epoch 5/200\n",
            "1712/1712 [==============================] - 2s 1ms/step - loss: 0.0020 - acc: 0.7886 - val_loss: 0.0213 - val_acc: 0.3248\n",
            "Epoch 6/200\n",
            " 500/1712 [=======>......................] - ETA: 1s - loss: 0.0020 - acc: 0.7640"
          ],
          "name": "stdout"
        },
        {
          "output_type": "stream",
          "text": [
            "1712/1712 [==============================] - 2s 1ms/step - loss: 0.0020 - acc: 0.7693 - val_loss: 0.0210 - val_acc: 0.3458\n",
            "Epoch 7/200\n",
            "1712/1712 [==============================] - 2s 1ms/step - loss: 0.0020 - acc: 0.7734 - val_loss: 0.0210 - val_acc: 0.3388\n",
            "Epoch 8/200\n",
            "1712/1712 [==============================] - 2s 1ms/step - loss: 0.0020 - acc: 0.7868 - val_loss: 0.0209 - val_acc: 0.3364\n",
            "Epoch 9/200\n",
            "1712/1712 [==============================] - 2s 1ms/step - loss: 0.0020 - acc: 0.7833 - val_loss: 0.0211 - val_acc: 0.3575\n",
            "Epoch 10/200\n",
            "1712/1712 [==============================] - 2s 1ms/step - loss: 0.0020 - acc: 0.7786 - val_loss: 0.0209 - val_acc: 0.3645\n",
            "Epoch 11/200\n",
            "1712/1712 [==============================] - 2s 1ms/step - loss: 0.0020 - acc: 0.7734 - val_loss: 0.0210 - val_acc: 0.3458\n",
            "Epoch 12/200\n",
            "1580/1712 [==========================>...] - ETA: 0s - loss: 0.0020 - acc: 0.7937"
          ],
          "name": "stdout"
        },
        {
          "output_type": "stream",
          "text": [
            "1712/1712 [==============================] - 2s 1ms/step - loss: 0.0020 - acc: 0.7956 - val_loss: 0.0210 - val_acc: 0.3528\n",
            "Epoch 13/200\n",
            "1712/1712 [==============================] - 2s 1ms/step - loss: 0.0020 - acc: 0.7921 - val_loss: 0.0211 - val_acc: 0.3575\n",
            "Epoch 14/200\n",
            "1712/1712 [==============================] - 2s 1ms/step - loss: 0.0020 - acc: 0.7775 - val_loss: 0.0213 - val_acc: 0.3505\n",
            "Epoch 15/200\n",
            "1712/1712 [==============================] - 2s 1ms/step - loss: 0.0020 - acc: 0.7710 - val_loss: 0.0213 - val_acc: 0.3551\n",
            "Epoch 16/200\n",
            "1712/1712 [==============================] - 2s 1ms/step - loss: 0.0020 - acc: 0.7886 - val_loss: 0.0209 - val_acc: 0.3435\n",
            "Epoch 17/200\n",
            "1712/1712 [==============================] - 2s 1ms/step - loss: 0.0020 - acc: 0.7798 - val_loss: 0.0211 - val_acc: 0.3575\n",
            "Epoch 18/200\n",
            "1640/1712 [===========================>..] - ETA: 0s - loss: 0.0020 - acc: 0.7762"
          ],
          "name": "stdout"
        },
        {
          "output_type": "stream",
          "text": [
            "1712/1712 [==============================] - 2s 1ms/step - loss: 0.0020 - acc: 0.7745 - val_loss: 0.0212 - val_acc: 0.3458\n",
            "Epoch 19/200\n",
            "1712/1712 [==============================] - 2s 1ms/step - loss: 0.0020 - acc: 0.7821 - val_loss: 0.0209 - val_acc: 0.3388\n",
            "Epoch 20/200\n",
            "1712/1712 [==============================] - 2s 1ms/step - loss: 0.0020 - acc: 0.7827 - val_loss: 0.0209 - val_acc: 0.3318\n",
            "Epoch 21/200\n",
            "1712/1712 [==============================] - 2s 1ms/step - loss: 0.0020 - acc: 0.7780 - val_loss: 0.0209 - val_acc: 0.3411\n",
            "Epoch 22/200\n",
            "1712/1712 [==============================] - 2s 1ms/step - loss: 0.0020 - acc: 0.7739 - val_loss: 0.0210 - val_acc: 0.3621\n",
            "Epoch 23/200\n",
            "1712/1712 [==============================] - 2s 1ms/step - loss: 0.0020 - acc: 0.7798 - val_loss: 0.0209 - val_acc: 0.3575\n",
            "Epoch 24/200\n",
            "1640/1712 [===========================>..] - ETA: 0s - loss: 0.0020 - acc: 0.7604"
          ],
          "name": "stdout"
        },
        {
          "output_type": "stream",
          "text": [
            "1712/1712 [==============================] - 2s 1ms/step - loss: 0.0020 - acc: 0.7599 - val_loss: 0.0214 - val_acc: 0.3528\n",
            "Epoch 25/200\n",
            "1712/1712 [==============================] - 2s 1ms/step - loss: 0.0020 - acc: 0.7710 - val_loss: 0.0212 - val_acc: 0.3598\n",
            "Epoch 26/200\n",
            "1712/1712 [==============================] - 2s 1ms/step - loss: 0.0020 - acc: 0.7880 - val_loss: 0.0210 - val_acc: 0.3645\n",
            "Epoch 27/200\n",
            "1712/1712 [==============================] - 2s 1ms/step - loss: 0.0020 - acc: 0.7880 - val_loss: 0.0212 - val_acc: 0.3435\n",
            "Epoch 28/200\n",
            "1712/1712 [==============================] - 2s 1ms/step - loss: 0.0020 - acc: 0.7769 - val_loss: 0.0212 - val_acc: 0.3294\n",
            "Epoch 29/200\n",
            "1712/1712 [==============================] - 2s 1ms/step - loss: 0.0020 - acc: 0.7792 - val_loss: 0.0210 - val_acc: 0.3528\n",
            "Epoch 30/200\n",
            "1700/1712 [============================>.] - ETA: 0s - loss: 0.0020 - acc: 0.7800"
          ],
          "name": "stdout"
        },
        {
          "output_type": "stream",
          "text": [
            "1712/1712 [==============================] - 2s 1ms/step - loss: 0.0020 - acc: 0.7792 - val_loss: 0.0210 - val_acc: 0.3481\n",
            "Epoch 31/200\n",
            "1712/1712 [==============================] - 2s 1ms/step - loss: 0.0020 - acc: 0.7704 - val_loss: 0.0210 - val_acc: 0.3388\n",
            "Epoch 32/200\n",
            "1712/1712 [==============================] - 2s 1ms/step - loss: 0.0020 - acc: 0.7845 - val_loss: 0.0210 - val_acc: 0.3458\n",
            "Epoch 33/200\n",
            "1712/1712 [==============================] - 2s 1ms/step - loss: 0.0020 - acc: 0.7780 - val_loss: 0.0210 - val_acc: 0.3528\n",
            "Epoch 34/200\n",
            "1712/1712 [==============================] - 2s 1ms/step - loss: 0.0020 - acc: 0.7804 - val_loss: 0.0210 - val_acc: 0.3505\n",
            "Epoch 35/200\n",
            "1712/1712 [==============================] - 2s 1ms/step - loss: 0.0020 - acc: 0.7681 - val_loss: 0.0208 - val_acc: 0.3598\n",
            "Epoch 36/200\n",
            "1640/1712 [===========================>..] - ETA: 0s - loss: 0.0020 - acc: 0.7774"
          ],
          "name": "stdout"
        },
        {
          "output_type": "stream",
          "text": [
            "1712/1712 [==============================] - 2s 1ms/step - loss: 0.0020 - acc: 0.7745 - val_loss: 0.0211 - val_acc: 0.3481\n",
            "Epoch 37/200\n",
            "1712/1712 [==============================] - 2s 1ms/step - loss: 0.0020 - acc: 0.7804 - val_loss: 0.0212 - val_acc: 0.3575\n",
            "Epoch 38/200\n",
            "1712/1712 [==============================] - 2s 1ms/step - loss: 0.0020 - acc: 0.7868 - val_loss: 0.0210 - val_acc: 0.3528\n",
            "Epoch 39/200\n",
            "1712/1712 [==============================] - 2s 1ms/step - loss: 0.0020 - acc: 0.7903 - val_loss: 0.0209 - val_acc: 0.3481\n",
            "Epoch 40/200\n",
            "1712/1712 [==============================] - 2s 1ms/step - loss: 0.0020 - acc: 0.7699 - val_loss: 0.0209 - val_acc: 0.3435\n",
            "Epoch 41/200\n",
            "1712/1712 [==============================] - 2s 1ms/step - loss: 0.0019 - acc: 0.7845 - val_loss: 0.0210 - val_acc: 0.3575\n",
            "Epoch 42/200\n",
            "1700/1712 [============================>.] - ETA: 0s - loss: 0.0020 - acc: 0.7771"
          ],
          "name": "stdout"
        },
        {
          "output_type": "stream",
          "text": [
            "1712/1712 [==============================] - 2s 1ms/step - loss: 0.0020 - acc: 0.7769 - val_loss: 0.0211 - val_acc: 0.3318\n",
            "Epoch 43/200\n",
            "1712/1712 [==============================] - 2s 1ms/step - loss: 0.0019 - acc: 0.7751 - val_loss: 0.0212 - val_acc: 0.3551\n",
            "Epoch 44/200\n",
            "1712/1712 [==============================] - 2s 1ms/step - loss: 0.0020 - acc: 0.7798 - val_loss: 0.0211 - val_acc: 0.3364\n",
            "Epoch 45/200\n",
            "1712/1712 [==============================] - 2s 1ms/step - loss: 0.0020 - acc: 0.7850 - val_loss: 0.0210 - val_acc: 0.3575\n",
            "Epoch 46/200\n",
            "1712/1712 [==============================] - 2s 1ms/step - loss: 0.0020 - acc: 0.7792 - val_loss: 0.0211 - val_acc: 0.3201\n",
            "Epoch 47/200\n",
            "1712/1712 [==============================] - 2s 1ms/step - loss: 0.0020 - acc: 0.7716 - val_loss: 0.0209 - val_acc: 0.3458\n",
            "Epoch 48/200\n",
            "1700/1712 [============================>.] - ETA: 0s - loss: 0.0020 - acc: 0.7806"
          ],
          "name": "stdout"
        },
        {
          "output_type": "stream",
          "text": [
            "1712/1712 [==============================] - 2s 1ms/step - loss: 0.0020 - acc: 0.7804 - val_loss: 0.0210 - val_acc: 0.3551\n",
            "Epoch 49/200\n",
            "1712/1712 [==============================] - 2s 1ms/step - loss: 0.0020 - acc: 0.7827 - val_loss: 0.0211 - val_acc: 0.3505\n",
            "Epoch 50/200\n",
            "1712/1712 [==============================] - 2s 1ms/step - loss: 0.0019 - acc: 0.7833 - val_loss: 0.0210 - val_acc: 0.3411\n",
            "Epoch 51/200\n",
            "1712/1712 [==============================] - 2s 1ms/step - loss: 0.0020 - acc: 0.7815 - val_loss: 0.0213 - val_acc: 0.3481\n",
            "Epoch 52/200\n",
            "1712/1712 [==============================] - 2s 1ms/step - loss: 0.0020 - acc: 0.7716 - val_loss: 0.0210 - val_acc: 0.3505\n",
            "Epoch 53/200\n",
            "1712/1712 [==============================] - 2s 1ms/step - loss: 0.0020 - acc: 0.7763 - val_loss: 0.0211 - val_acc: 0.3481\n",
            "Epoch 54/200\n",
            "1700/1712 [============================>.] - ETA: 0s - loss: 0.0020 - acc: 0.7841"
          ],
          "name": "stdout"
        },
        {
          "output_type": "stream",
          "text": [
            "1712/1712 [==============================] - 2s 1ms/step - loss: 0.0020 - acc: 0.7845 - val_loss: 0.0209 - val_acc: 0.3505\n",
            "Epoch 55/200\n",
            "1712/1712 [==============================] - 2s 1ms/step - loss: 0.0019 - acc: 0.7932 - val_loss: 0.0211 - val_acc: 0.3435\n",
            "Epoch 56/200\n",
            "1712/1712 [==============================] - 2s 1ms/step - loss: 0.0019 - acc: 0.7810 - val_loss: 0.0209 - val_acc: 0.3598\n",
            "Epoch 57/200\n",
            "1712/1712 [==============================] - 2s 1ms/step - loss: 0.0020 - acc: 0.7827 - val_loss: 0.0210 - val_acc: 0.3621\n",
            "Epoch 58/200\n",
            "1712/1712 [==============================] - 2s 1ms/step - loss: 0.0020 - acc: 0.7815 - val_loss: 0.0211 - val_acc: 0.3388\n",
            "Epoch 59/200\n",
            "1712/1712 [==============================] - 2s 1ms/step - loss: 0.0020 - acc: 0.7780 - val_loss: 0.0213 - val_acc: 0.3154\n",
            "Epoch 60/200\n",
            "1700/1712 [============================>.] - ETA: 0s - loss: 0.0019 - acc: 0.7747"
          ],
          "name": "stdout"
        },
        {
          "output_type": "stream",
          "text": [
            "1712/1712 [==============================] - 2s 1ms/step - loss: 0.0019 - acc: 0.7728 - val_loss: 0.0210 - val_acc: 0.3505\n",
            "Epoch 61/200\n",
            "1712/1712 [==============================] - 2s 1ms/step - loss: 0.0020 - acc: 0.7792 - val_loss: 0.0212 - val_acc: 0.3481\n",
            "Epoch 62/200\n",
            "1712/1712 [==============================] - 2s 1ms/step - loss: 0.0019 - acc: 0.7757 - val_loss: 0.0211 - val_acc: 0.3435\n",
            "Epoch 63/200\n",
            "1712/1712 [==============================] - 2s 1ms/step - loss: 0.0020 - acc: 0.7827 - val_loss: 0.0210 - val_acc: 0.3575\n",
            "Epoch 64/200\n",
            "1712/1712 [==============================] - 2s 1ms/step - loss: 0.0019 - acc: 0.7903 - val_loss: 0.0210 - val_acc: 0.3551\n",
            "Epoch 65/200\n",
            "1712/1712 [==============================] - 2s 1ms/step - loss: 0.0020 - acc: 0.7675 - val_loss: 0.0213 - val_acc: 0.3435\n",
            "Epoch 66/200\n",
            "1640/1712 [===========================>..] - ETA: 0s - loss: 0.0019 - acc: 0.7829"
          ],
          "name": "stdout"
        },
        {
          "output_type": "stream",
          "text": [
            "1712/1712 [==============================] - 2s 1ms/step - loss: 0.0019 - acc: 0.7804 - val_loss: 0.0213 - val_acc: 0.3248\n",
            "Epoch 67/200\n",
            "1712/1712 [==============================] - 2s 1ms/step - loss: 0.0020 - acc: 0.7821 - val_loss: 0.0211 - val_acc: 0.3435\n",
            "Epoch 68/200\n",
            "1712/1712 [==============================] - 2s 1ms/step - loss: 0.0020 - acc: 0.7763 - val_loss: 0.0212 - val_acc: 0.3341\n",
            "Epoch 69/200\n",
            "1712/1712 [==============================] - 2s 1ms/step - loss: 0.0019 - acc: 0.7716 - val_loss: 0.0214 - val_acc: 0.3341\n",
            "Epoch 70/200\n",
            "1712/1712 [==============================] - 2s 1ms/step - loss: 0.0020 - acc: 0.7868 - val_loss: 0.0210 - val_acc: 0.3481\n",
            "Epoch 71/200\n",
            "1712/1712 [==============================] - 2s 1ms/step - loss: 0.0019 - acc: 0.7821 - val_loss: 0.0206 - val_acc: 0.3551\n",
            "Epoch 72/200\n",
            "1700/1712 [============================>.] - ETA: 0s - loss: 0.0019 - acc: 0.7782"
          ],
          "name": "stdout"
        },
        {
          "output_type": "stream",
          "text": [
            "1712/1712 [==============================] - 2s 1ms/step - loss: 0.0019 - acc: 0.7786 - val_loss: 0.0210 - val_acc: 0.3621\n",
            "Epoch 73/200\n",
            "1712/1712 [==============================] - 2s 1ms/step - loss: 0.0020 - acc: 0.7926 - val_loss: 0.0213 - val_acc: 0.3551\n",
            "Epoch 74/200\n",
            "1712/1712 [==============================] - 2s 1ms/step - loss: 0.0019 - acc: 0.7821 - val_loss: 0.0213 - val_acc: 0.3551\n",
            "Epoch 75/200\n",
            "1712/1712 [==============================] - 2s 1ms/step - loss: 0.0020 - acc: 0.7833 - val_loss: 0.0211 - val_acc: 0.3692\n",
            "Epoch 76/200\n",
            "1712/1712 [==============================] - 2s 1ms/step - loss: 0.0019 - acc: 0.7751 - val_loss: 0.0210 - val_acc: 0.3481\n",
            "Epoch 77/200\n",
            "1712/1712 [==============================] - 2s 1ms/step - loss: 0.0019 - acc: 0.7821 - val_loss: 0.0211 - val_acc: 0.3645\n",
            "Epoch 78/200\n",
            "1700/1712 [============================>.] - ETA: 0s - loss: 0.0019 - acc: 0.7724"
          ],
          "name": "stdout"
        },
        {
          "output_type": "stream",
          "text": [
            "1712/1712 [==============================] - 2s 1ms/step - loss: 0.0019 - acc: 0.7734 - val_loss: 0.0210 - val_acc: 0.3481\n",
            "Epoch 79/200\n",
            "1712/1712 [==============================] - 2s 1ms/step - loss: 0.0019 - acc: 0.7810 - val_loss: 0.0212 - val_acc: 0.3551\n",
            "Epoch 80/200\n",
            "1712/1712 [==============================] - 2s 1ms/step - loss: 0.0020 - acc: 0.7786 - val_loss: 0.0211 - val_acc: 0.3575\n",
            "Epoch 81/200\n",
            "1712/1712 [==============================] - 2s 1ms/step - loss: 0.0019 - acc: 0.7792 - val_loss: 0.0211 - val_acc: 0.3528\n",
            "Epoch 82/200\n",
            "1712/1712 [==============================] - 2s 1ms/step - loss: 0.0020 - acc: 0.7786 - val_loss: 0.0209 - val_acc: 0.3551\n",
            "Epoch 83/200\n",
            "1712/1712 [==============================] - 2s 1ms/step - loss: 0.0019 - acc: 0.7780 - val_loss: 0.0210 - val_acc: 0.3481\n",
            "Epoch 84/200\n",
            "1640/1712 [===========================>..] - ETA: 0s - loss: 0.0019 - acc: 0.7854"
          ],
          "name": "stdout"
        },
        {
          "output_type": "stream",
          "text": [
            "1712/1712 [==============================] - 2s 1ms/step - loss: 0.0019 - acc: 0.7868 - val_loss: 0.0215 - val_acc: 0.3435\n",
            "Epoch 85/200\n",
            "1712/1712 [==============================] - 2s 1ms/step - loss: 0.0019 - acc: 0.7868 - val_loss: 0.0213 - val_acc: 0.3411\n",
            "Epoch 86/200\n",
            "1712/1712 [==============================] - 2s 1ms/step - loss: 0.0020 - acc: 0.7821 - val_loss: 0.0215 - val_acc: 0.3388\n",
            "Epoch 87/200\n",
            "1712/1712 [==============================] - 2s 1ms/step - loss: 0.0020 - acc: 0.7833 - val_loss: 0.0212 - val_acc: 0.3458\n",
            "Epoch 88/200\n",
            "1712/1712 [==============================] - 2s 1ms/step - loss: 0.0020 - acc: 0.7704 - val_loss: 0.0213 - val_acc: 0.3551\n",
            "Epoch 89/200\n",
            "1712/1712 [==============================] - 2s 1ms/step - loss: 0.0020 - acc: 0.7763 - val_loss: 0.0212 - val_acc: 0.3364\n",
            "Epoch 90/200\n",
            "1640/1712 [===========================>..] - ETA: 0s - loss: 0.0019 - acc: 0.7963"
          ],
          "name": "stdout"
        },
        {
          "output_type": "stream",
          "text": [
            "1712/1712 [==============================] - 2s 1ms/step - loss: 0.0019 - acc: 0.7967 - val_loss: 0.0211 - val_acc: 0.3505\n",
            "Epoch 91/200\n",
            "1712/1712 [==============================] - 2s 1ms/step - loss: 0.0020 - acc: 0.7786 - val_loss: 0.0210 - val_acc: 0.3481\n",
            "Epoch 92/200\n",
            "1712/1712 [==============================] - 2s 1ms/step - loss: 0.0020 - acc: 0.7909 - val_loss: 0.0212 - val_acc: 0.3481\n",
            "Epoch 93/200\n",
            "1712/1712 [==============================] - 2s 1ms/step - loss: 0.0020 - acc: 0.7815 - val_loss: 0.0210 - val_acc: 0.3411\n",
            "Epoch 94/200\n",
            "1712/1712 [==============================] - 2s 1ms/step - loss: 0.0020 - acc: 0.7775 - val_loss: 0.0211 - val_acc: 0.3505\n",
            "Epoch 95/200\n",
            "1712/1712 [==============================] - 2s 1ms/step - loss: 0.0019 - acc: 0.7792 - val_loss: 0.0209 - val_acc: 0.3575\n",
            "Epoch 96/200\n",
            "1640/1712 [===========================>..] - ETA: 0s - loss: 0.0019 - acc: 0.7866"
          ],
          "name": "stdout"
        },
        {
          "output_type": "stream",
          "text": [
            "1712/1712 [==============================] - 2s 1ms/step - loss: 0.0019 - acc: 0.7827 - val_loss: 0.0211 - val_acc: 0.3505\n",
            "Epoch 97/200\n",
            "1712/1712 [==============================] - 2s 1ms/step - loss: 0.0019 - acc: 0.7821 - val_loss: 0.0211 - val_acc: 0.3481\n",
            "Epoch 98/200\n",
            "1712/1712 [==============================] - 2s 1ms/step - loss: 0.0020 - acc: 0.7850 - val_loss: 0.0213 - val_acc: 0.3458\n",
            "Epoch 99/200\n",
            "1712/1712 [==============================] - 2s 1ms/step - loss: 0.0019 - acc: 0.7926 - val_loss: 0.0209 - val_acc: 0.3505\n",
            "Epoch 100/200\n",
            "1712/1712 [==============================] - 2s 1ms/step - loss: 0.0019 - acc: 0.7915 - val_loss: 0.0210 - val_acc: 0.3528\n",
            "Epoch 101/200\n",
            "1712/1712 [==============================] - 2s 1ms/step - loss: 0.0019 - acc: 0.7710 - val_loss: 0.0210 - val_acc: 0.3715\n",
            "Epoch 102/200\n",
            "1580/1712 [==========================>...] - ETA: 0s - loss: 0.0020 - acc: 0.7886"
          ],
          "name": "stdout"
        },
        {
          "output_type": "stream",
          "text": [
            "1712/1712 [==============================] - 2s 1ms/step - loss: 0.0020 - acc: 0.7915 - val_loss: 0.0212 - val_acc: 0.3528\n",
            "Epoch 103/200\n",
            "1712/1712 [==============================] - 2s 1ms/step - loss: 0.0019 - acc: 0.7815 - val_loss: 0.0211 - val_acc: 0.3388\n",
            "Epoch 104/200\n",
            "1712/1712 [==============================] - 2s 1ms/step - loss: 0.0019 - acc: 0.7699 - val_loss: 0.0210 - val_acc: 0.3528\n",
            "Epoch 105/200\n",
            "1712/1712 [==============================] - 2s 1ms/step - loss: 0.0019 - acc: 0.7967 - val_loss: 0.0214 - val_acc: 0.3458\n",
            "Epoch 106/200\n",
            "1712/1712 [==============================] - 2s 1ms/step - loss: 0.0019 - acc: 0.7798 - val_loss: 0.0212 - val_acc: 0.3364\n",
            "Epoch 107/200\n",
            "1712/1712 [==============================] - 2s 1ms/step - loss: 0.0020 - acc: 0.7775 - val_loss: 0.0211 - val_acc: 0.3318\n",
            "Epoch 108/200\n",
            "1580/1712 [==========================>...] - ETA: 0s - loss: 0.0019 - acc: 0.7918"
          ],
          "name": "stdout"
        },
        {
          "output_type": "stream",
          "text": [
            "1712/1712 [==============================] - 2s 1ms/step - loss: 0.0019 - acc: 0.7921 - val_loss: 0.0213 - val_acc: 0.3341\n",
            "Epoch 109/200\n",
            "1712/1712 [==============================] - 2s 1ms/step - loss: 0.0019 - acc: 0.7763 - val_loss: 0.0213 - val_acc: 0.3318\n",
            "Epoch 110/200\n",
            "1712/1712 [==============================] - 2s 1ms/step - loss: 0.0020 - acc: 0.7880 - val_loss: 0.0212 - val_acc: 0.3294\n",
            "Epoch 111/200\n",
            "1712/1712 [==============================] - 2s 1ms/step - loss: 0.0020 - acc: 0.7833 - val_loss: 0.0214 - val_acc: 0.3411\n",
            "Epoch 112/200\n",
            "1712/1712 [==============================] - 2s 1ms/step - loss: 0.0019 - acc: 0.7757 - val_loss: 0.0215 - val_acc: 0.3528\n",
            "Epoch 113/200\n",
            "1712/1712 [==============================] - 2s 1ms/step - loss: 0.0019 - acc: 0.7979 - val_loss: 0.0209 - val_acc: 0.3318\n",
            "Epoch 114/200\n",
            "1640/1712 [===========================>..] - ETA: 0s - loss: 0.0019 - acc: 0.7848"
          ],
          "name": "stdout"
        },
        {
          "output_type": "stream",
          "text": [
            "1712/1712 [==============================] - 2s 1ms/step - loss: 0.0019 - acc: 0.7850 - val_loss: 0.0215 - val_acc: 0.3364\n",
            "Epoch 115/200\n",
            "1712/1712 [==============================] - 2s 1ms/step - loss: 0.0019 - acc: 0.7880 - val_loss: 0.0211 - val_acc: 0.3551\n",
            "Epoch 116/200\n",
            "1712/1712 [==============================] - 2s 1ms/step - loss: 0.0019 - acc: 0.7699 - val_loss: 0.0211 - val_acc: 0.3388\n",
            "Epoch 117/200\n",
            "1712/1712 [==============================] - 2s 1ms/step - loss: 0.0019 - acc: 0.7909 - val_loss: 0.0210 - val_acc: 0.3411\n",
            "Epoch 118/200\n",
            "1712/1712 [==============================] - 2s 1ms/step - loss: 0.0019 - acc: 0.7804 - val_loss: 0.0211 - val_acc: 0.3575\n",
            "Epoch 119/200\n",
            "1712/1712 [==============================] - 2s 1ms/step - loss: 0.0019 - acc: 0.7839 - val_loss: 0.0211 - val_acc: 0.3435\n",
            "Epoch 120/200\n",
            "1580/1712 [==========================>...] - ETA: 0s - loss: 0.0019 - acc: 0.7753"
          ],
          "name": "stdout"
        },
        {
          "output_type": "stream",
          "text": [
            "1712/1712 [==============================] - 2s 1ms/step - loss: 0.0019 - acc: 0.7734 - val_loss: 0.0211 - val_acc: 0.3411\n",
            "Epoch 121/200\n",
            "1712/1712 [==============================] - 2s 1ms/step - loss: 0.0019 - acc: 0.7886 - val_loss: 0.0213 - val_acc: 0.3481\n",
            "Epoch 122/200\n",
            "1712/1712 [==============================] - 2s 1ms/step - loss: 0.0019 - acc: 0.7798 - val_loss: 0.0212 - val_acc: 0.3435\n",
            "Epoch 123/200\n",
            "1712/1712 [==============================] - 2s 1ms/step - loss: 0.0019 - acc: 0.7798 - val_loss: 0.0212 - val_acc: 0.3364\n",
            "Epoch 124/200\n",
            "1712/1712 [==============================] - 2s 1ms/step - loss: 0.0019 - acc: 0.7780 - val_loss: 0.0210 - val_acc: 0.3505\n",
            "Epoch 125/200\n",
            "1712/1712 [==============================] - 2s 1ms/step - loss: 0.0019 - acc: 0.7792 - val_loss: 0.0209 - val_acc: 0.3481\n",
            "Epoch 126/200\n",
            "1640/1712 [===========================>..] - ETA: 0s - loss: 0.0019 - acc: 0.7799"
          ],
          "name": "stdout"
        },
        {
          "output_type": "stream",
          "text": [
            "1712/1712 [==============================] - 2s 1ms/step - loss: 0.0019 - acc: 0.7804 - val_loss: 0.0212 - val_acc: 0.3294\n",
            "Epoch 127/200\n",
            "1712/1712 [==============================] - 2s 1ms/step - loss: 0.0019 - acc: 0.7850 - val_loss: 0.0210 - val_acc: 0.3271\n",
            "Epoch 128/200\n",
            "1712/1712 [==============================] - 2s 1ms/step - loss: 0.0019 - acc: 0.7716 - val_loss: 0.0210 - val_acc: 0.3294\n",
            "Epoch 129/200\n",
            "1712/1712 [==============================] - 2s 1ms/step - loss: 0.0019 - acc: 0.7921 - val_loss: 0.0213 - val_acc: 0.3318\n",
            "Epoch 130/200\n",
            "1712/1712 [==============================] - 2s 1ms/step - loss: 0.0019 - acc: 0.7944 - val_loss: 0.0210 - val_acc: 0.3411\n",
            "Epoch 131/200\n",
            "1712/1712 [==============================] - 2s 1ms/step - loss: 0.0019 - acc: 0.7833 - val_loss: 0.0212 - val_acc: 0.3294\n",
            "Epoch 132/200\n",
            "1640/1712 [===========================>..] - ETA: 0s - loss: 0.0019 - acc: 0.7915"
          ],
          "name": "stdout"
        },
        {
          "output_type": "stream",
          "text": [
            "1712/1712 [==============================] - 2s 1ms/step - loss: 0.0019 - acc: 0.7903 - val_loss: 0.0212 - val_acc: 0.3411\n",
            "Epoch 133/200\n",
            "1712/1712 [==============================] - 2s 1ms/step - loss: 0.0019 - acc: 0.7780 - val_loss: 0.0214 - val_acc: 0.3271\n",
            "Epoch 134/200\n",
            "1712/1712 [==============================] - 2s 1ms/step - loss: 0.0019 - acc: 0.7763 - val_loss: 0.0211 - val_acc: 0.3364\n",
            "Epoch 135/200\n",
            "1712/1712 [==============================] - 2s 1ms/step - loss: 0.0019 - acc: 0.7798 - val_loss: 0.0214 - val_acc: 0.3505\n",
            "Epoch 136/200\n",
            "1712/1712 [==============================] - 2s 1ms/step - loss: 0.0019 - acc: 0.7739 - val_loss: 0.0212 - val_acc: 0.3435\n",
            "Epoch 137/200\n",
            "1712/1712 [==============================] - 2s 1ms/step - loss: 0.0019 - acc: 0.7921 - val_loss: 0.0211 - val_acc: 0.3411\n",
            "Epoch 138/200\n",
            "1580/1712 [==========================>...] - ETA: 0s - loss: 0.0019 - acc: 0.7829"
          ],
          "name": "stdout"
        },
        {
          "output_type": "stream",
          "text": [
            "1712/1712 [==============================] - 2s 1ms/step - loss: 0.0019 - acc: 0.7845 - val_loss: 0.0215 - val_acc: 0.3388\n",
            "Epoch 139/200\n",
            "1712/1712 [==============================] - 2s 1ms/step - loss: 0.0019 - acc: 0.7786 - val_loss: 0.0209 - val_acc: 0.3435\n",
            "Epoch 140/200\n",
            "1712/1712 [==============================] - 2s 1ms/step - loss: 0.0019 - acc: 0.7850 - val_loss: 0.0209 - val_acc: 0.3411\n",
            "Epoch 141/200\n",
            "1712/1712 [==============================] - 2s 1ms/step - loss: 0.0019 - acc: 0.7827 - val_loss: 0.0212 - val_acc: 0.3528\n",
            "Epoch 142/200\n",
            "1712/1712 [==============================] - 2s 1ms/step - loss: 0.0019 - acc: 0.7909 - val_loss: 0.0212 - val_acc: 0.3551\n",
            "Epoch 143/200\n",
            "1712/1712 [==============================] - 2s 1ms/step - loss: 0.0019 - acc: 0.7815 - val_loss: 0.0214 - val_acc: 0.3458\n",
            "Epoch 144/200\n",
            "1640/1712 [===========================>..] - ETA: 0s - loss: 0.0019 - acc: 0.7841"
          ],
          "name": "stdout"
        },
        {
          "output_type": "stream",
          "text": [
            "1712/1712 [==============================] - 2s 1ms/step - loss: 0.0019 - acc: 0.7821 - val_loss: 0.0213 - val_acc: 0.3388\n",
            "Epoch 145/200\n",
            "1712/1712 [==============================] - 2s 1ms/step - loss: 0.0019 - acc: 0.7739 - val_loss: 0.0213 - val_acc: 0.3388\n",
            "Epoch 146/200\n",
            "1712/1712 [==============================] - 2s 1ms/step - loss: 0.0019 - acc: 0.7821 - val_loss: 0.0215 - val_acc: 0.3458\n",
            "Epoch 147/200\n",
            "1712/1712 [==============================] - 2s 1ms/step - loss: 0.0019 - acc: 0.7944 - val_loss: 0.0212 - val_acc: 0.3528\n",
            "Epoch 148/200\n",
            "1712/1712 [==============================] - 2s 1ms/step - loss: 0.0019 - acc: 0.7693 - val_loss: 0.0213 - val_acc: 0.3435\n",
            "Epoch 149/200\n",
            "1712/1712 [==============================] - 2s 1ms/step - loss: 0.0019 - acc: 0.7827 - val_loss: 0.0214 - val_acc: 0.3528\n",
            "Epoch 150/200\n",
            "1580/1712 [==========================>...] - ETA: 0s - loss: 0.0019 - acc: 0.7785"
          ],
          "name": "stdout"
        },
        {
          "output_type": "stream",
          "text": [
            "1712/1712 [==============================] - 2s 1ms/step - loss: 0.0019 - acc: 0.7815 - val_loss: 0.0212 - val_acc: 0.3575\n",
            "Epoch 151/200\n",
            "1712/1712 [==============================] - 2s 1ms/step - loss: 0.0019 - acc: 0.7821 - val_loss: 0.0212 - val_acc: 0.3411\n",
            "Epoch 152/200\n",
            "1712/1712 [==============================] - 2s 1ms/step - loss: 0.0019 - acc: 0.7728 - val_loss: 0.0213 - val_acc: 0.3435\n",
            "Epoch 153/200\n",
            "1712/1712 [==============================] - 2s 1ms/step - loss: 0.0019 - acc: 0.7775 - val_loss: 0.0210 - val_acc: 0.3388\n",
            "Epoch 154/200\n",
            "1712/1712 [==============================] - 2s 1ms/step - loss: 0.0019 - acc: 0.7833 - val_loss: 0.0214 - val_acc: 0.3411\n",
            "Epoch 155/200\n",
            "1712/1712 [==============================] - 2s 1ms/step - loss: 0.0019 - acc: 0.7856 - val_loss: 0.0211 - val_acc: 0.3318\n",
            "Epoch 156/200\n",
            "1640/1712 [===========================>..] - ETA: 0s - loss: 0.0019 - acc: 0.7939"
          ],
          "name": "stdout"
        },
        {
          "output_type": "stream",
          "text": [
            "1712/1712 [==============================] - 2s 1ms/step - loss: 0.0019 - acc: 0.7903 - val_loss: 0.0213 - val_acc: 0.3458\n",
            "Epoch 157/200\n",
            "1712/1712 [==============================] - 2s 1ms/step - loss: 0.0019 - acc: 0.7804 - val_loss: 0.0211 - val_acc: 0.3551\n",
            "Epoch 158/200\n",
            "1712/1712 [==============================] - 2s 1ms/step - loss: 0.0019 - acc: 0.7891 - val_loss: 0.0211 - val_acc: 0.3528\n",
            "Epoch 159/200\n",
            "1712/1712 [==============================] - 2s 1ms/step - loss: 0.0019 - acc: 0.7833 - val_loss: 0.0214 - val_acc: 0.3458\n",
            "Epoch 160/200\n",
            "1712/1712 [==============================] - 2s 1ms/step - loss: 0.0019 - acc: 0.7810 - val_loss: 0.0214 - val_acc: 0.3505\n",
            "Epoch 161/200\n",
            "1712/1712 [==============================] - 2s 1ms/step - loss: 0.0019 - acc: 0.7839 - val_loss: 0.0210 - val_acc: 0.3435\n",
            "Epoch 162/200\n",
            "1640/1712 [===========================>..] - ETA: 0s - loss: 0.0019 - acc: 0.7933"
          ],
          "name": "stdout"
        },
        {
          "output_type": "stream",
          "text": [
            "1712/1712 [==============================] - 2s 1ms/step - loss: 0.0019 - acc: 0.7903 - val_loss: 0.0215 - val_acc: 0.3388\n",
            "Epoch 163/200\n",
            "1712/1712 [==============================] - 2s 1ms/step - loss: 0.0019 - acc: 0.7769 - val_loss: 0.0213 - val_acc: 0.3388\n",
            "Epoch 164/200\n",
            "1712/1712 [==============================] - 2s 1ms/step - loss: 0.0019 - acc: 0.7804 - val_loss: 0.0212 - val_acc: 0.3598\n",
            "Epoch 165/200\n",
            "1712/1712 [==============================] - 2s 1ms/step - loss: 0.0019 - acc: 0.7798 - val_loss: 0.0214 - val_acc: 0.3458\n",
            "Epoch 166/200\n",
            "1712/1712 [==============================] - 2s 1ms/step - loss: 0.0019 - acc: 0.7845 - val_loss: 0.0211 - val_acc: 0.3294\n",
            "Epoch 167/200\n",
            "1712/1712 [==============================] - 2s 1ms/step - loss: 0.0019 - acc: 0.7903 - val_loss: 0.0210 - val_acc: 0.3575\n",
            "Epoch 168/200\n",
            "1580/1712 [==========================>...] - ETA: 0s - loss: 0.0019 - acc: 0.7797"
          ],
          "name": "stdout"
        },
        {
          "output_type": "stream",
          "text": [
            "1712/1712 [==============================] - 2s 1ms/step - loss: 0.0019 - acc: 0.7815 - val_loss: 0.0216 - val_acc: 0.3458\n",
            "Epoch 169/200\n",
            "1712/1712 [==============================] - 2s 1ms/step - loss: 0.0019 - acc: 0.7739 - val_loss: 0.0213 - val_acc: 0.3505\n",
            "Epoch 170/200\n",
            "1712/1712 [==============================] - 2s 1ms/step - loss: 0.0019 - acc: 0.7675 - val_loss: 0.0211 - val_acc: 0.3435\n",
            "Epoch 171/200\n",
            "1712/1712 [==============================] - 2s 1ms/step - loss: 0.0019 - acc: 0.7815 - val_loss: 0.0213 - val_acc: 0.3388\n",
            "Epoch 172/200\n",
            "1712/1712 [==============================] - 2s 1ms/step - loss: 0.0019 - acc: 0.7874 - val_loss: 0.0213 - val_acc: 0.3528\n",
            "Epoch 173/200\n",
            "1712/1712 [==============================] - 2s 1ms/step - loss: 0.0019 - acc: 0.7967 - val_loss: 0.0213 - val_acc: 0.3551\n",
            "Epoch 174/200\n",
            "1580/1712 [==========================>...] - ETA: 0s - loss: 0.0019 - acc: 0.7886"
          ],
          "name": "stdout"
        },
        {
          "output_type": "stream",
          "text": [
            "1712/1712 [==============================] - 2s 1ms/step - loss: 0.0019 - acc: 0.7874 - val_loss: 0.0214 - val_acc: 0.3435\n",
            "Epoch 175/200\n",
            "1712/1712 [==============================] - 2s 1ms/step - loss: 0.0019 - acc: 0.7921 - val_loss: 0.0212 - val_acc: 0.3248\n",
            "Epoch 176/200\n",
            "1712/1712 [==============================] - 2s 1ms/step - loss: 0.0019 - acc: 0.7804 - val_loss: 0.0213 - val_acc: 0.3505\n",
            "Epoch 177/200\n",
            "1712/1712 [==============================] - 2s 1ms/step - loss: 0.0019 - acc: 0.7862 - val_loss: 0.0212 - val_acc: 0.3435\n",
            "Epoch 178/200\n",
            "1712/1712 [==============================] - 2s 1ms/step - loss: 0.0019 - acc: 0.7792 - val_loss: 0.0212 - val_acc: 0.3388\n",
            "Epoch 179/200\n",
            "1712/1712 [==============================] - 2s 1ms/step - loss: 0.0019 - acc: 0.7775 - val_loss: 0.0211 - val_acc: 0.3528\n",
            "Epoch 180/200\n",
            "1580/1712 [==========================>...] - ETA: 0s - loss: 0.0019 - acc: 0.7892"
          ],
          "name": "stdout"
        },
        {
          "output_type": "stream",
          "text": [
            "1712/1712 [==============================] - 2s 1ms/step - loss: 0.0019 - acc: 0.7827 - val_loss: 0.0216 - val_acc: 0.3481\n",
            "Epoch 181/200\n",
            "1712/1712 [==============================] - 2s 1ms/step - loss: 0.0019 - acc: 0.7810 - val_loss: 0.0213 - val_acc: 0.3388\n",
            "Epoch 182/200\n",
            "1712/1712 [==============================] - 2s 1ms/step - loss: 0.0019 - acc: 0.7804 - val_loss: 0.0210 - val_acc: 0.3505\n",
            "Epoch 183/200\n",
            "1712/1712 [==============================] - 2s 1ms/step - loss: 0.0019 - acc: 0.7856 - val_loss: 0.0212 - val_acc: 0.3551\n",
            "Epoch 184/200\n",
            "1712/1712 [==============================] - 2s 1ms/step - loss: 0.0019 - acc: 0.7915 - val_loss: 0.0211 - val_acc: 0.3505\n",
            "Epoch 185/200\n",
            "1712/1712 [==============================] - 2s 1ms/step - loss: 0.0019 - acc: 0.7780 - val_loss: 0.0211 - val_acc: 0.3551\n",
            "Epoch 186/200\n",
            "1640/1712 [===========================>..] - ETA: 0s - loss: 0.0019 - acc: 0.7841"
          ],
          "name": "stdout"
        },
        {
          "output_type": "stream",
          "text": [
            "1712/1712 [==============================] - 2s 1ms/step - loss: 0.0019 - acc: 0.7874 - val_loss: 0.0212 - val_acc: 0.3411\n",
            "Epoch 187/200\n",
            "1712/1712 [==============================] - 2s 1ms/step - loss: 0.0019 - acc: 0.7804 - val_loss: 0.0215 - val_acc: 0.3528\n",
            "Epoch 188/200\n",
            "1712/1712 [==============================] - 2s 1ms/step - loss: 0.0019 - acc: 0.7903 - val_loss: 0.0214 - val_acc: 0.3481\n",
            "Epoch 189/200\n",
            "1712/1712 [==============================] - 2s 1ms/step - loss: 0.0019 - acc: 0.7850 - val_loss: 0.0212 - val_acc: 0.3435\n",
            "Epoch 190/200\n",
            "1712/1712 [==============================] - 2s 1ms/step - loss: 0.0019 - acc: 0.7862 - val_loss: 0.0213 - val_acc: 0.3598\n",
            "Epoch 191/200\n",
            "1712/1712 [==============================] - 2s 1ms/step - loss: 0.0019 - acc: 0.7903 - val_loss: 0.0213 - val_acc: 0.3388\n",
            "Epoch 192/200\n",
            "1640/1712 [===========================>..] - ETA: 0s - loss: 0.0019 - acc: 0.7841"
          ],
          "name": "stdout"
        },
        {
          "output_type": "stream",
          "text": [
            "1712/1712 [==============================] - 2s 1ms/step - loss: 0.0019 - acc: 0.7903 - val_loss: 0.0213 - val_acc: 0.3505\n",
            "Epoch 193/200\n",
            "1712/1712 [==============================] - 2s 1ms/step - loss: 0.0019 - acc: 0.7874 - val_loss: 0.0213 - val_acc: 0.3481\n",
            "Epoch 194/200\n",
            "1712/1712 [==============================] - 2s 1ms/step - loss: 0.0019 - acc: 0.7722 - val_loss: 0.0213 - val_acc: 0.3248\n",
            "Epoch 195/200\n",
            "1712/1712 [==============================] - 2s 1ms/step - loss: 0.0019 - acc: 0.7827 - val_loss: 0.0210 - val_acc: 0.3294\n",
            "Epoch 196/200\n",
            "1712/1712 [==============================] - 2s 1ms/step - loss: 0.0019 - acc: 0.7850 - val_loss: 0.0212 - val_acc: 0.3481\n",
            "Epoch 197/200\n",
            "1712/1712 [==============================] - 2s 1ms/step - loss: 0.0019 - acc: 0.7845 - val_loss: 0.0211 - val_acc: 0.3481\n",
            "Epoch 198/200\n",
            "1640/1712 [===========================>..] - ETA: 0s - loss: 0.0019 - acc: 0.8024"
          ],
          "name": "stdout"
        },
        {
          "output_type": "stream",
          "text": [
            "1712/1712 [==============================] - 2s 1ms/step - loss: 0.0019 - acc: 0.8055 - val_loss: 0.0214 - val_acc: 0.3178\n",
            "Epoch 199/200\n",
            "1712/1712 [==============================] - 2s 1ms/step - loss: 0.0019 - acc: 0.7845 - val_loss: 0.0212 - val_acc: 0.3575\n",
            "Epoch 200/200\n",
            "1712/1712 [==============================] - 2s 1ms/step - loss: 0.0019 - acc: 0.7956 - val_loss: 0.0211 - val_acc: 0.3411\n"
          ],
          "name": "stdout"
        }
      ]
    },
    {
      "metadata": {
        "id": "AeXBhz4_dCej",
        "colab_type": "code",
        "colab": {
          "autoexec": {
            "startup": false,
            "wait_interval": 0
          }
        }
      },
      "cell_type": "code",
      "source": [
        "model.save_weights('drive/data/facial_keypoint_weights.h5')"
      ],
      "execution_count": 0,
      "outputs": []
    },
    {
      "metadata": {
        "id": "IfgquDy04Vk2",
        "colab_type": "code",
        "colab": {
          "autoexec": {
            "startup": false,
            "wait_interval": 0
          },
          "base_uri": "https://localhost:8080/",
          "height": 580
        },
        "outputId": "63982f43-d59a-49ad-9244-2053ba3bee37",
        "executionInfo": {
          "status": "ok",
          "timestamp": 1532277672501,
          "user_tz": -330,
          "elapsed": 1686,
          "user": {
            "displayName": "Apurva Nitanjay",
            "photoUrl": "//lh3.googleusercontent.com/-KH_2QvdDNyA/AAAAAAAAAAI/AAAAAAAAAEM/1CxoQ-BUF-g/s50-c-k-no/photo.jpg",
            "userId": "108703841969919506045"
          }
        }
      },
      "cell_type": "code",
      "source": [
        "plt.plot(history.history['acc'])\n",
        "plt.plot(history.history['val_acc'])\n",
        "plt.title('model accuracy')\n",
        "plt.ylabel('accuracy')\n",
        "plt.xlabel('epoch')\n",
        "plt.legend(['train', 'test'], loc='upper left')\n",
        "plt.show()\n",
        "# summarize history for loss\n",
        "plt.plot(history.history['loss'])\n",
        "plt.plot(history.history['val_loss'])\n",
        "plt.title('model loss')\n",
        "plt.ylabel('loss')\n",
        "plt.xlabel('epoch')\n",
        "plt.legend(['train', 'test'], loc='upper left')\n",
        "plt.show()"
      ],
      "execution_count": 30,
      "outputs": [
        {
          "output_type": "display_data",
          "data": {
            "image/png": "[encoded data removed]",
            "text/plain": [
              "<matplotlib.figure.Figure at 0x7f68c3b0ef98>"
            ]
          },
          "metadata": {
            "tags": []
          }
        },
        {
          "output_type": "display_data",
          "data": {
            "image/png": "[encoded data removed]",
            "text/plain": [
              "<matplotlib.figure.Figure at 0x7f68c3ad9470>"
            ]
          },
          "metadata": {
            "tags": []
          }
        }
      ]
    },
    {
      "metadata": {
        "id": "T7Ta08Gb2rod",
        "colab_type": "code",
        "colab": {
          "autoexec": {
            "startup": false,
            "wait_interval": 0
          },
          "base_uri": "https://localhost:8080/",
          "height": 35
        },
        "outputId": "353817fd-8492-4940-8972-a747ebecb18f",
        "executionInfo": {
          "status": "ok",
          "timestamp": 1532278298603,
          "user_tz": -330,
          "elapsed": 1045,
          "user": {
            "displayName": "Apurva Nitanjay",
            "photoUrl": "//lh3.googleusercontent.com/-KH_2QvdDNyA/AAAAAAAAAAI/AAAAAAAAAEM/1CxoQ-BUF-g/s50-c-k-no/photo.jpg",
            "userId": "108703841969919506045"
          }
        }
      },
      "cell_type": "code",
      "source": [
        "img = train_images[0]\n",
        "pre = model.predict(np.array([img]))\n",
        "print(pre.shape)"
      ],
      "execution_count": 38,
      "outputs": [
        {
          "output_type": "stream",
          "text": [
            "(1, 30)\n"
          ],
          "name": "stdout"
        }
      ]
    },
    {
      "metadata": {
        "id": "zH_Fz6gAdCem",
        "colab_type": "code",
        "colab": {
          "autoexec": {
            "startup": false,
            "wait_interval": 0
          }
        }
      },
      "cell_type": "code",
      "source": [
        "pre = output_pipe.inverse_transform(pre).reshape(15, 2)"
      ],
      "execution_count": 0,
      "outputs": []
    },
    {
      "metadata": {
        "id": "Egr9adM2109e",
        "colab_type": "code",
        "colab": {
          "autoexec": {
            "startup": false,
            "wait_interval": 0
          },
          "base_uri": "https://localhost:8080/",
          "height": 121
        },
        "outputId": "e065cb86-bcb3-4cda-9b66-6a74cce1ab6f",
        "executionInfo": {
          "status": "ok",
          "timestamp": 1532278308948,
          "user_tz": -330,
          "elapsed": 1051,
          "user": {
            "displayName": "Apurva Nitanjay",
            "photoUrl": "//lh3.googleusercontent.com/-KH_2QvdDNyA/AAAAAAAAAAI/AAAAAAAAAEM/1CxoQ-BUF-g/s50-c-k-no/photo.jpg",
            "userId": "108703841969919506045"
          }
        }
      },
      "cell_type": "code",
      "source": [
        "pre.T"
      ],
      "execution_count": 40,
      "outputs": [
        {
          "output_type": "execute_result",
          "data": {
            "text/plain": [
              "array([[66.84973 , 30.151194, 60.361717, 73.24087 , 36.22675 , 23.270176,\n",
              "        57.341923, 80.728806, 39.719307, 16.54118 , 44.649223, 60.755627,\n",
              "        29.012604, 44.064083, 43.31591 ],\n",
              "       [38.76578 , 36.40242 , 39.526302, 40.291145, 37.93724 , 37.129364,\n",
              "        28.880096, 32.0367  , 28.381691, 28.635202, 57.112957, 79.96167 ,\n",
              "        77.808556, 72.869095, 85.67388 ]], dtype=float32)"
            ]
          },
          "metadata": {
            "tags": []
          },
          "execution_count": 40
        }
      ]
    },
    {
      "metadata": {
        "id": "Nls2mXOl5jxd",
        "colab_type": "code",
        "colab": {
          "autoexec": {
            "startup": false,
            "wait_interval": 0
          },
          "base_uri": "https://localhost:8080/",
          "height": 286
        },
        "outputId": "b910a7a2-a538-460e-f284-7ac04097766e",
        "executionInfo": {
          "status": "ok",
          "timestamp": 1532278616535,
          "user_tz": -330,
          "elapsed": 1169,
          "user": {
            "displayName": "Apurva Nitanjay",
            "photoUrl": "//lh3.googleusercontent.com/-KH_2QvdDNyA/AAAAAAAAAAI/AAAAAAAAAEM/1CxoQ-BUF-g/s50-c-k-no/photo.jpg",
            "userId": "108703841969919506045"
          }
        }
      },
      "cell_type": "code",
      "source": [
        "import random\n",
        "k = random.randint(0, train_images.shape[0])\n",
        "img = train_images[k]\n",
        "pre = model.predict(np.array([img]))\n",
        "pre = output_pipe.inverse_transform(pre).reshape(15,2)\n",
        "x = pre.T[0]\n",
        "y = pre.T[1]\n",
        "plt.figure()\n",
        "plt.plot(x,y, marker='o',linestyle='', color='r', label = \"keypoints\",)\n",
        "plt.imshow(img.reshape(96,96))"
      ],
      "execution_count": 48,
      "outputs": [
        {
          "output_type": "execute_result",
          "data": {
            "text/plain": [
              "<matplotlib.image.AxesImage at 0x7f68ae575c50>"
            ]
          },
          "metadata": {
            "tags": []
          },
          "execution_count": 48
        },
        {
          "output_type": "display_data",
          "data": {
            "image/png": "[encoded data removed]",
            "text/plain": [
              "<matplotlib.figure.Figure at 0x7f68ae8484a8>"
            ]
          },
          "metadata": {
            "tags": []
          }
        }
      ]
    },
    {
      "metadata": {
        "id": "Gf7RA5As6Y3G",
        "colab_type": "code",
        "colab": {
          "autoexec": {
            "startup": false,
            "wait_interval": 0
          }
        }
      },
      "cell_type": "code",
      "source": [
        ""
      ],
      "execution_count": 0,
      "outputs": []
    }
  ]
}